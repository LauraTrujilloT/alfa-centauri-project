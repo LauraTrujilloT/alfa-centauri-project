{
 "cells": [
  {
   "attachments": {},
   "cell_type": "markdown",
   "metadata": {},
   "source": [
    "# Clase 1: Data Types"
   ]
  },
  {
   "attachments": {},
   "cell_type": "markdown",
   "metadata": {},
   "source": [
    "# Mi primer notebook\n",
    "\n",
    "Esta es una celda markdown, para texto.\n",
    "\n",
    "Esta es una fórmula fancy, usando sintaxis de LateX:  $ y_{i} = x^2$\n",
    "\n",
    "Esto es un snippet de código (sólo lectura):\n",
    "\n",
    "```python\n",
    "# Esto es un comentario en python. La siguiente linea importa librería numpy\n",
    "import numpy as np \n",
    "\n",
    "#Crear un objeto tipo int (numero entero)\n",
    "n_int = 9 \n",
    "# Crear un objeto tipo lista (vacia)\n",
    "my_list = []\n",
    "```"
   ]
  },
  {
   "cell_type": "code",
   "execution_count": 39,
   "metadata": {},
   "outputs": [
    {
     "name": "stdout",
     "output_type": "stream",
     "text": [
      "hello\n"
     ]
    }
   ],
   "source": [
    "#Esta celda es para codigo\n",
    "#Vamos a imprimir usando python un mensaje de \"consola\"\n",
    "print('hello')"
   ]
  },
  {
   "attachments": {},
   "cell_type": "markdown",
   "metadata": {},
   "source": [
    "## Tipos de objetos\n",
    "\n",
    "<img src=\"https://image.slidesharecdn.com/datatypesinpython-210616122138/85/data-types-in-python-2-320.jpg?cb=1668970683\"  width=\"300\" height=\"300\">\n",
    "\n",
    "```python \n",
    "x = 3 #int\n",
    "y = 3.0 #float\n",
    "z = '3' #str\n",
    "z = False #bool\n",
    "a = [] #list\n",
    "a = list() #list\n",
    "a = () #tuple \n",
    "a = tuple() #tuple\n",
    "b = {} #dict \n",
    "b = dict() #dict\n",
    "```"
   ]
  },
  {
   "cell_type": "code",
   "execution_count": 45,
   "metadata": {},
   "outputs": [
    {
     "data": {
      "text/plain": [
       "int"
      ]
     },
     "execution_count": 45,
     "metadata": {},
     "output_type": "execute_result"
    }
   ],
   "source": [
    "#When in doubt : \n",
    "type(3 + 3)"
   ]
  },
  {
   "cell_type": "code",
   "execution_count": 55,
   "metadata": {},
   "outputs": [
    {
     "name": "stdout",
     "output_type": "stream",
     "text": [
      "x:  5.4 y:  8.3 la suma de ambos es:  13.700000000000001\n",
      "6.0\n"
     ]
    }
   ],
   "source": [
    "# Crear 2 variables tipo float \n",
    "x, y = 5.4, 8.3\n",
    "# Sumar x y y guardar en variable z \n",
    "z = x + y \n",
    "\n",
    "print('x: ', x , 'y: ', y , 'la suma de ambos es: ', z)\n",
    "# Verificar si la palabra \"hi\" esta en variable p \n",
    "p = \"hi, how's it going\"\n",
    "#p ?? \n",
    "\n",
    "# Verificar si es posible las sgtes operaciones\n",
    "q1 = p + str(x) + str(y) \n",
    "q2 = 3 * p\n",
    "#print(q2)\n",
    "q3 = 'hello' + p \n",
    "q4 = 3 + 3.0 \n",
    "#print(q4)\n"
   ]
  },
  {
   "cell_type": "code",
   "execution_count": 58,
   "metadata": {},
   "outputs": [
    {
     "name": "stdout",
     "output_type": "stream",
     "text": [
      "El numerador es :  223.9 \n",
      "El denominador es:  4\n",
      "El promedio es :  55.975\n"
     ]
    }
   ],
   "source": [
    "# Calcular promedio \n",
    "data_col = [50, 65, 65.4, 43.5] #list de elementos tipo int, float\n",
    "\n",
    "# Promedio = sum of all observations / total number observations\n",
    "num = sum(data_col) # 40 + 65 + 65.4 + 43.5 = float\n",
    "den = len(data_col) # cuentame cuantos elementos tiene esa lista (4 elementos)\n",
    "print('El numerador es : ', num, \"\\nEl denominador es: \", den)\n",
    "\n",
    "avg = num / den \n",
    "\n",
    "print('El promedio es : ', avg )"
   ]
  },
  {
   "attachments": {},
   "cell_type": "markdown",
   "metadata": {},
   "source": [
    "### Funciones"
   ]
  },
  {
   "attachments": {},
   "cell_type": "markdown",
   "metadata": {},
   "source": [
    "$f(x)$"
   ]
  },
  {
   "cell_type": "code",
   "execution_count": 60,
   "metadata": {},
   "outputs": [],
   "source": [
    "def cata_arithmetic_mean(data):\n",
    "    num = sum(data)\n",
    "    den = len(data)\n",
    "    return num / den"
   ]
  },
  {
   "cell_type": "code",
   "execution_count": 62,
   "metadata": {},
   "outputs": [
    {
     "data": {
      "text/plain": [
       "36.21"
      ]
     },
     "execution_count": 62,
     "metadata": {},
     "output_type": "execute_result"
    }
   ],
   "source": [
    "data_col = [30, 34, 45.5, 35.34]\n",
    "cata_arithmetic_mean(data_col)"
   ]
  },
  {
   "cell_type": "code",
   "execution_count": 64,
   "metadata": {},
   "outputs": [],
   "source": [
    "from astropy.utils.data import download_file\n",
    "from astropy.io import fits\n",
    "from matplotlib import pyplot as plt\n",
    "from astropy.coordinates import SkyCoord\n",
    "from urllib.parse import urlencode\n",
    "from urllib.request import urlretrieve\n",
    "from IPython.display import Image\n",
    "import astropy.units as u\n",
    "%matplotlib inline"
   ]
  },
  {
   "cell_type": "code",
   "execution_count": 73,
   "metadata": {},
   "outputs": [],
   "source": [
    "def in_a_galaxy_far_far_away(galaxy_name='NGC234', pixels=1024):\n",
    "    im_size = 12 * u.arcmin\n",
    "    im_pixels = pixels\n",
    "    urlCutOut = 'http://skyservice.pha.jhu.edu/DR12/ImgCutout/getjpeg.aspx'\n",
    "    fuente = SkyCoord.from_name(galaxy_name) #NGC234\n",
    "    print(\"Coordinates\", fuente)\n",
    "    query_string = urlencode(dict(ra=fuente.ra.deg,\n",
    "                                dec=fuente.dec.deg,\n",
    "                                width=im_pixels, \n",
    "                                height=im_pixels,\n",
    "                                scale=im_size.to(u.arcsec).value/im_pixels))\n",
    "    url = urlCutOut + '?' + query_string\n",
    "    print(query_string)\n",
    "    urlretrieve(url, \"assets/\"+galaxy_name+\".jpg\")\n",
    "    return Image(\"assets/\"+galaxy_name+\".jpg\")"
   ]
  },
  {
   "cell_type": "code",
   "execution_count": null,
   "metadata": {},
   "outputs": [],
   "source": [
    "import galaxies \n",
    "\n",
    "galaxies.in_a_galaxy_far_far_away()"
   ]
  },
  {
   "cell_type": "code",
   "execution_count": 78,
   "metadata": {},
   "outputs": [
    {
     "name": "stdout",
     "output_type": "stream",
     "text": [
      "Coordinates <SkyCoord (ICRS): (ra, dec) in deg\n",
      "    (10.88492397, 14.34261046)>\n",
      "ra=10.884923971&dec=14.34261046439&width=512&height=512&scale=1.40625\n"
     ]
    },
    {
     "data": {
      "image/jpeg": "[encoded data removed]",
      "text/plain": [
       "<IPython.core.display.Image object>"
      ]
     },
     "execution_count": 78,
     "metadata": {},
     "output_type": "execute_result"
    }
   ],
   "source": [
    "in_a_galaxy_far_far_away(galaxy_name='NGC234', pixels=512)"
   ]
  },
  {
   "attachments": {},
   "cell_type": "markdown",
   "metadata": {},
   "source": [
    "### HW (?)\n",
    "\n",
    "Crear función para calcular Customer Lifetime value\n",
    "\n",
    "$$ CLTV = \\frac{AVG_{order value} \\times Purchase_{freq}}{churn_{rate}} \\times profit_{margin}$$"
   ]
  },
  {
   "cell_type": "code",
   "execution_count": 23,
   "metadata": {},
   "outputs": [],
   "source": [
    "# Si no esta instalado pandas:\n",
    "# !pip3 install pandas\n",
    "# !pip3 install openpyxl\n",
    "import pandas as pd \n",
    "\n",
    "# ! Ignorar esta parte (solo correr/ejecutar)\n",
    "\n",
    "uk_data = pd.read_excel('../datasets/online_retail_uk.xlsx')\n",
    "uk_data_group = pd.read_csv('../datasets/online_retail_uk_group.csv')\n",
    "\n",
    "# Calculo de Average Order Value\n",
    "uk_data_group['avg_order_value'] = uk_data_group['spent_money'] / uk_data_group['num_transactions']\n",
    "\n",
    "# Calculo de Purchase Frequency \n",
    "purchase_frequency = sum(uk_data_group['num_transactions']) / uk_data_group.shape[0]\n",
    "\n",
    "# Repeat Rate\n",
    "repeat_rate = uk_data_group[uk_data_group.num_transactions > 1].shape[0] / uk_data_group.shape[0]\n",
    "\n",
    "#Churn Rate\n",
    "churn_rate = 1 - repeat_rate\n",
    "\n",
    "# Profit Margin\n",
    "uk_data_group['profit_margin'] = uk_data_group['spent_money'] * 0.05\n",
    "\n"
   ]
  },
  {
   "cell_type": "code",
   "execution_count": null,
   "metadata": {},
   "outputs": [],
   "source": [
    "## Funcion para calcular Customer Lifetime Value\n",
    "def compute_clv(avg_order=uk_data_group['avg_order_value'], purchase_frequency=purchase_frequency, churn_rate=churn_rate, profit_margin=uk_data_group['profit_margin']):\n",
    "    \"\"\" Esta funcion te ayuda a calcular el CLV \n",
    "    (args)\n",
    "    \"\"\"\n",
    "    uk_data_group['CLTV'] = 0 # Crear calculo aquí (borrar 0)\n",
    "    return uk_data_group\n"
   ]
  },
  {
   "cell_type": "code",
   "execution_count": 80,
   "metadata": {},
   "outputs": [
    {
     "data": {
      "text/html": [
       "<div>\n",
       "<style scoped>\n",
       "    .dataframe tbody tr th:only-of-type {\n",
       "        vertical-align: middle;\n",
       "    }\n",
       "\n",
       "    .dataframe tbody tr th {\n",
       "        vertical-align: top;\n",
       "    }\n",
       "\n",
       "    .dataframe thead th {\n",
       "        text-align: right;\n",
       "    }\n",
       "</style>\n",
       "<table border=\"1\" class=\"dataframe\">\n",
       "  <thead>\n",
       "    <tr style=\"text-align: right;\">\n",
       "      <th></th>\n",
       "      <th>CustomerID</th>\n",
       "      <th>num_days</th>\n",
       "      <th>num_transactions</th>\n",
       "      <th>num_units</th>\n",
       "      <th>spent_money</th>\n",
       "      <th>avg_order_value</th>\n",
       "      <th>profit_margin</th>\n",
       "    </tr>\n",
       "  </thead>\n",
       "  <tbody>\n",
       "    <tr>\n",
       "      <th>0</th>\n",
       "      <td>12346.0</td>\n",
       "      <td>0</td>\n",
       "      <td>1</td>\n",
       "      <td>74215</td>\n",
       "      <td>77183.60</td>\n",
       "      <td>77183.600000</td>\n",
       "      <td>3859.1800</td>\n",
       "    </tr>\n",
       "    <tr>\n",
       "      <th>1</th>\n",
       "      <td>12747.0</td>\n",
       "      <td>366</td>\n",
       "      <td>103</td>\n",
       "      <td>1275</td>\n",
       "      <td>4196.01</td>\n",
       "      <td>40.737961</td>\n",
       "      <td>209.8005</td>\n",
       "    </tr>\n",
       "    <tr>\n",
       "      <th>2</th>\n",
       "      <td>12748.0</td>\n",
       "      <td>372</td>\n",
       "      <td>4596</td>\n",
       "      <td>25748</td>\n",
       "      <td>33719.73</td>\n",
       "      <td>7.336756</td>\n",
       "      <td>1685.9865</td>\n",
       "    </tr>\n",
       "    <tr>\n",
       "      <th>3</th>\n",
       "      <td>12749.0</td>\n",
       "      <td>209</td>\n",
       "      <td>199</td>\n",
       "      <td>1471</td>\n",
       "      <td>4090.88</td>\n",
       "      <td>20.557186</td>\n",
       "      <td>204.5440</td>\n",
       "    </tr>\n",
       "    <tr>\n",
       "      <th>4</th>\n",
       "      <td>12820.0</td>\n",
       "      <td>323</td>\n",
       "      <td>59</td>\n",
       "      <td>722</td>\n",
       "      <td>942.34</td>\n",
       "      <td>15.971864</td>\n",
       "      <td>47.1170</td>\n",
       "    </tr>\n",
       "    <tr>\n",
       "      <th>...</th>\n",
       "      <td>...</td>\n",
       "      <td>...</td>\n",
       "      <td>...</td>\n",
       "      <td>...</td>\n",
       "      <td>...</td>\n",
       "      <td>...</td>\n",
       "      <td>...</td>\n",
       "    </tr>\n",
       "    <tr>\n",
       "      <th>3916</th>\n",
       "      <td>18280.0</td>\n",
       "      <td>0</td>\n",
       "      <td>10</td>\n",
       "      <td>45</td>\n",
       "      <td>180.60</td>\n",
       "      <td>18.060000</td>\n",
       "      <td>9.0300</td>\n",
       "    </tr>\n",
       "    <tr>\n",
       "      <th>3917</th>\n",
       "      <td>18281.0</td>\n",
       "      <td>0</td>\n",
       "      <td>7</td>\n",
       "      <td>54</td>\n",
       "      <td>80.82</td>\n",
       "      <td>11.545714</td>\n",
       "      <td>4.0410</td>\n",
       "    </tr>\n",
       "    <tr>\n",
       "      <th>3918</th>\n",
       "      <td>18282.0</td>\n",
       "      <td>118</td>\n",
       "      <td>12</td>\n",
       "      <td>103</td>\n",
       "      <td>178.05</td>\n",
       "      <td>14.837500</td>\n",
       "      <td>8.9025</td>\n",
       "    </tr>\n",
       "    <tr>\n",
       "      <th>3919</th>\n",
       "      <td>18283.0</td>\n",
       "      <td>333</td>\n",
       "      <td>756</td>\n",
       "      <td>1397</td>\n",
       "      <td>2094.88</td>\n",
       "      <td>2.771005</td>\n",
       "      <td>104.7440</td>\n",
       "    </tr>\n",
       "    <tr>\n",
       "      <th>3920</th>\n",
       "      <td>18287.0</td>\n",
       "      <td>158</td>\n",
       "      <td>70</td>\n",
       "      <td>1586</td>\n",
       "      <td>1837.28</td>\n",
       "      <td>26.246857</td>\n",
       "      <td>91.8640</td>\n",
       "    </tr>\n",
       "  </tbody>\n",
       "</table>\n",
       "<p>3921 rows × 7 columns</p>\n",
       "</div>"
      ],
      "text/plain": [
       "      CustomerID  num_days  num_transactions  num_units  spent_money  \\\n",
       "0        12346.0         0                 1      74215     77183.60   \n",
       "1        12747.0       366               103       1275      4196.01   \n",
       "2        12748.0       372              4596      25748     33719.73   \n",
       "3        12749.0       209               199       1471      4090.88   \n",
       "4        12820.0       323                59        722       942.34   \n",
       "...          ...       ...               ...        ...          ...   \n",
       "3916     18280.0         0                10         45       180.60   \n",
       "3917     18281.0         0                 7         54        80.82   \n",
       "3918     18282.0       118                12        103       178.05   \n",
       "3919     18283.0       333               756       1397      2094.88   \n",
       "3920     18287.0       158                70       1586      1837.28   \n",
       "\n",
       "      avg_order_value  profit_margin  \n",
       "0        77183.600000      3859.1800  \n",
       "1           40.737961       209.8005  \n",
       "2            7.336756      1685.9865  \n",
       "3           20.557186       204.5440  \n",
       "4           15.971864        47.1170  \n",
       "...               ...            ...  \n",
       "3916        18.060000         9.0300  \n",
       "3917        11.545714         4.0410  \n",
       "3918        14.837500         8.9025  \n",
       "3919         2.771005       104.7440  \n",
       "3920        26.246857        91.8640  \n",
       "\n",
       "[3921 rows x 7 columns]"
      ]
     },
     "execution_count": 80,
     "metadata": {},
     "output_type": "execute_result"
    }
   ],
   "source": [
    "compute_clv()\n",
    "uk_data_group.to_excel('assets/cata_tarea.xlsx')"
   ]
  }
 ],
 "metadata": {
  "kernelspec": {
   "display_name": "Python 3",
   "language": "python",
   "name": "python3"
  },
  "language_info": {
   "codemirror_mode": {
    "name": "ipython",
    "version": 3
   },
   "file_extension": ".py",
   "mimetype": "text/x-python",
   "name": "python",
   "nbconvert_exporter": "python",
   "pygments_lexer": "ipython3",
   "version": "3.8.10"
  },
  "orig_nbformat": 4
 },
 "nbformat": 4,
 "nbformat_minor": 2
}
