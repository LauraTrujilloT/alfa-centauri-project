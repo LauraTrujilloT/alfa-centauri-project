{
 "cells": [
  {
   "attachments": {},
   "cell_type": "markdown",
   "metadata": {},
   "source": [
    "## Python --Cata\n",
    "\n",
    "#### Comandos de ayuda en Jupyter Notebook\n",
    "\n",
    "- `esc` y, luego $\\rightarrow$ `d` `d`: \"Delete\" celda\n",
    "- `esc` y, luego $\\rightarrow$ `a`: Crea celda \"above\" \n",
    "- `esc` y, luego $\\rightarrow$ `b`: Crea celda \"below\"\n",
    "- `esc` y, luego $\\rightarrow$ `m`: Crea celda de texto \"markdown\""
   ]
  },
  {
   "cell_type": "code",
   "execution_count": 2,
   "metadata": {},
   "outputs": [
    {
     "name": "stdout",
     "output_type": "stream",
     "text": [
      "zaki loki\n"
     ]
    }
   ],
   "source": [
    "x = \"zaki\"\n",
    "y = \"loki\"\n",
    "\n",
    "print(x,y)"
   ]
  },
  {
   "cell_type": "code",
   "execution_count": null,
   "metadata": {},
   "outputs": [],
   "source": []
  }
 ],
 "metadata": {
  "kernelspec": {
   "display_name": "Python 3",
   "language": "python",
   "name": "python3"
  },
  "language_info": {
   "codemirror_mode": {
    "name": "ipython",
    "version": 3
   },
   "file_extension": ".py",
   "mimetype": "text/x-python",
   "name": "python",
   "nbconvert_exporter": "python",
   "pygments_lexer": "ipython3",
   "version": "3.11.4"
  },
  "orig_nbformat": 4
 },
 "nbformat": 4,
 "nbformat_minor": 2
}
