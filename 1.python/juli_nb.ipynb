{
 "cells": [
  {
   "attachments": {},
   "cell_type": "markdown",
   "metadata": {},
   "source": [
    "## Python --Juli\n",
    "\n",
    "#### Comandos de ayuda en Jupyter Notebook\n",
    "\n",
    "- `esc` y, luego $\\rightarrow$ `d` `d`: \"Delete\" celda\n",
    "- `esc` y, luego $\\rightarrow$ `a`: Crea celda \"above\" \n",
    "- `esc` y, luego $\\rightarrow$ `b`: Crea celda \"below\"\n",
    "- `esc` y, luego $\\rightarrow$ `m`: Crea celda de texto \"markdown\"\n"
   ]
  },
  {
   "cell_type": "code",
   "execution_count": null,
   "metadata": {
    "vscode": {
     "languageId": "plaintext"
    }
   },
   "outputs": [],
   "source": []
  }
 ],
 "metadata": {
  "language_info": {
   "name": "python"
  },
  "orig_nbformat": 4
 },
 "nbformat": 4,
 "nbformat_minor": 2
}
