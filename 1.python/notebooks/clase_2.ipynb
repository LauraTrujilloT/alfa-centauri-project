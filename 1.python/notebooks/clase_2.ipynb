{
 "cells": [
  {
   "attachments": {},
   "cell_type": "markdown",
   "metadata": {},
   "source": [
    "# Clase 2: Conditional Statements \n",
    "\n",
    "> It's all about decisions. We might make decisions on-the-go, the computer needs some guidence in the form of logical steps. Those logical decisions are summarized as boolean variables (either True or False; 1 or 0), and conditional statements in programming allows us to \"help\" the computer to execute or \"go-ahead\" with some decisions or actions if some operation is True (or False), or if some line of thought is False (or True), and so on.\n",
    "\n",
    "**Logical Conditions using Relational Operators**\n",
    "\n",
    "| Statement     | Logical Symbol in Python  |\n",
    "|---------------|-----------------|\n",
    "|Less than      | <               |\n",
    "|Less than or equal to    | <=              |\n",
    "|Greater than      | >             |\n",
    "|Greater than or equal      | >=               |\n",
    "|Equal to      | ==               |\n",
    "|Not Equal to      | !=               |\n",
    "\n",
    "\n",
    "**The Syntax**\n",
    "\n",
    "```python\n",
    "#This is the syntax for an If statement in python\n",
    "if boolean_expression :\n",
    "    body_statements\n",
    "```\n",
    "\n",
    "The if statement is used for conditional execution. An If statement consists of a series of If, elif, else clauses. Every clause except else consists of a condition (a Boolean expression) and a sequence of statements. Based on the evaluation of the condition, the sequence of statements are executed.\n",
    "\n",
    "For instance: \n",
    "\n",
    "```python\n",
    "#This is the syntax for an If statement in python\n",
    "if some_logical_expression_is_true :\n",
    "    then_do_this\n",
    "elif other_logical_expression_is_true:\n",
    "    do_this_other_stuff\n",
    "elif another_logical_expression_is_true:\n",
    "    do_thos_another_stuff\n",
    "else: #if none of the above, then\n",
    "     # code to execute if condition is false\n",
    "    then_do_this_other_stuff\n",
    "```"
   ]
  },
  {
   "cell_type": "code",
   "execution_count": 2,
   "metadata": {},
   "outputs": [
    {
     "name": "stdout",
     "output_type": "stream",
     "text": [
      "True\n",
      "Yes 2 is greater than 1.\n",
      "yes 5 < 10\n",
      "hey-o, 1 is in the list [1,2,3,4]\n",
      "1 == 1\n"
     ]
    }
   ],
   "source": [
    "# Example 1\n",
    "if True:\n",
    "    print('True')\n",
    "\n",
    "# Example 2\n",
    "if 2 > 1 :                #The condition 2 > 1 evaluates to true.\n",
    "    print('Yes 2 is greater than 1.')\n",
    "\n",
    "# Example 3\n",
    "if False:\n",
    "    print('False') # Nothing happens here, since it's False, the computer is not going to listen and execute the line under \"if False\"\n",
    "elif 5 < 10 :             #The condition in elif evaluates to true.\n",
    "    print('yes 5 < 10')\n",
    "elif 1 / 0:               #The condition won't be evaluated.\n",
    "     print('division by zero')\n",
    "else:\n",
    "    print('else block')\n",
    "\n",
    "# Example 4 \n",
    "if 1 in [1, 2, 3, 4]: # the int element 1 is going to be compared to each element in the list; so since 1 is an element of the list, that'd be True\n",
    "    print('hey-o, 1 is in the list [1,2,3,4]')\n",
    "elif 1 == [1]:\n",
    "    print('hey-o, this is not going to be True')\n",
    "# 1 == [1] this logical condition is stating:\n",
    "# 1 is absolutely equal, with no diff whatsoever to [1]\n",
    "# Which is Faaalse, because 1 is an int object\n",
    "# while [1] is a list object containing an int object \n",
    "# To be absolutely the same, they need to be the same object and the same value\n",
    "\n",
    "if 1 != 1:\n",
    "    print('math tolds us this is False, 1 is equal to 1')\n",
    "else:\n",
    "    print('1 == 1')"
   ]
  },
  {
   "attachments": {},
   "cell_type": "markdown",
   "metadata": {},
   "source": [
    "Let's think about scenarios where the conditional statements might be useful.\n",
    "\n",
    "First Scenario: **User Authentication**\n",
    "Conditional statements can be used to implement user authentication logic. For instance, if you are developing a login system, you can use conditional statements to verify the user's credentials. Here's a simplified example:"
   ]
  },
  {
   "cell_type": "code",
   "execution_count": 3,
   "metadata": {},
   "outputs": [
    {
     "name": "stdout",
     "output_type": "stream",
     "text": [
      "Login successful!\n"
     ]
    }
   ],
   "source": [
    "username = input(\"Enter your username: \")\n",
    "password = input(\"Enter your password: \")\n",
    "\n",
    "if username == \"admin\" and password == \"password\":\n",
    "    print(\"Login successful!\")\n",
    "else:\n",
    "    print(\"Login failed. Invalid credentials.\")\n"
   ]
  },
  {
   "attachments": {},
   "cell_type": "markdown",
   "metadata": {},
   "source": [
    "The program checks if the entered username and password match the expected values and provides appropriate feedback based on the condition.\n",
    "\n",
    "Second Scenario : **Ticket Pricing**\n",
    "Imagine you are creating a program for a cinema that determines ticket prices based on various factors, such as age and showtime. Conditional statements can be used to calculate the ticket price accordingly. Here's an example:"
   ]
  },
  {
   "cell_type": "code",
   "execution_count": 4,
   "metadata": {},
   "outputs": [
    {
     "name": "stdout",
     "output_type": "stream",
     "text": [
      "Ticket Price: 12\n"
     ]
    }
   ],
   "source": [
    "age = 25\n",
    "showtime = 'matinee'\n",
    "ticket_price = 0\n",
    "\n",
    "if age < 18:\n",
    "    ticket_price = 8\n",
    "elif age >= 18 and age < 60:\n",
    "    if showtime == 'matinee':\n",
    "        ticket_price = 12\n",
    "    else:\n",
    "        ticket_price = 15\n",
    "else:\n",
    "    ticket_price = 10\n",
    "\n",
    "print(\"Ticket Price:\", ticket_price)\n"
   ]
  },
  {
   "attachments": {},
   "cell_type": "markdown",
   "metadata": {},
   "source": [
    "Third Scenario : **Hubspot Contacts** ;) \n",
    "\n",
    "Let's assume you have a list of contacts from HubSpot, and you want to filter out contacts based on specific criteria:\n",
    "\n"
   ]
  },
  {
   "cell_type": "code",
   "execution_count": 7,
   "metadata": {},
   "outputs": [
    {
     "name": "stdout",
     "output_type": "stream",
     "text": [
      "Let's check the entire data out: \n",
      " [{'name': 'John Doe', 'email': 'john@example.com', 'country': 'USA', 'status': 'customer'}, {'name': 'Jane Smith', 'email': 'jane@example.com', 'country': 'Canada', 'status': 'lead'}, {'name': 'Alex Johnson', 'email': 'alex@example.com', 'country': 'USA', 'status': 'customer'}, {'name': 'Emily Brown', 'email': 'emily@example.com', 'country': 'Australia', 'status': 'customer'}]\n",
      "\n",
      "Filtered Contacts (after our conditionals):\n",
      "John Doe - john@example.com\n",
      "Alex Johnson - alex@example.com\n"
     ]
    }
   ],
   "source": [
    "# Sample list of contacts from HubSpot\n",
    "contacts = [\n",
    "    {\"name\": \"John Doe\", \"email\": \"john@example.com\", \"country\": \"USA\", \"status\": \"customer\"},\n",
    "    {\"name\": \"Jane Smith\", \"email\": \"jane@example.com\", \"country\": \"Canada\", \"status\": \"lead\"},\n",
    "    {\"name\": \"Alex Johnson\", \"email\": \"alex@example.com\", \"country\": \"USA\", \"status\": \"customer\"},\n",
    "    {\"name\": \"Emily Brown\", \"email\": \"emily@example.com\", \"country\": \"Australia\", \"status\": \"customer\"}\n",
    "]\n",
    "\n",
    "print(\"Let's check the entire data out: \\n\", contacts)\n",
    "# Filter contacts based on criteria (e.g., country and status)\n",
    "filtered_contacts = []\n",
    "\n",
    "for contact in contacts:\n",
    "    if contact['country'] == 'USA' and contact['status'] == 'customer':\n",
    "        filtered_contacts.append(contact)\n",
    "\n",
    "# Print the filtered contacts\n",
    "print(\"\\nFiltered Contacts (after our conditionals):\")\n",
    "for contact in filtered_contacts:\n",
    "    print(contact['name'], \"-\", contact['email'])\n"
   ]
  },
  {
   "attachments": {},
   "cell_type": "markdown",
   "metadata": {},
   "source": [
    "In this example, we have a list of contacts with attributes such as name, email, country, and status. We want to filter out contacts who are from the USA and have a customer status. The program uses a conditional statement (if) to check if a contact satisfies the given criteria. If the condition is met, the contact is added to the `filtered_contacts` list. Finally, the program prints the names and emails of the filtered contacts."
   ]
  },
  {
   "attachments": {},
   "cell_type": "markdown",
   "metadata": {},
   "source": [
    "## Hands-on: \n",
    "\n",
    "Let's create an account in [Hackerrank](https://www.hackerrank.com/). Sign-in as Developer ;) and try to solve the following exercises :\n",
    "\n",
    "- [Python if-else](https://www.hackerrank.com/challenges/py-if-else/problem?isFullScreen=true)\n",
    "\n",
    "- [Python Arithmetic Operators](https://www.hackerrank.com/challenges/python-arithmetic-operators/problem?isFullScreen=true)\n",
    "\n",
    "- [Python Write a function](https://www.hackerrank.com/challenges/write-a-function/problem?isFullScreen=true) "
   ]
  },
  {
   "attachments": {},
   "cell_type": "markdown",
   "metadata": {},
   "source": [
    "### Complement your knowledge: \n",
    "\n",
    "- [Alex the analyst - if else](https://youtu.be/-BOBedcjySI)\n",
    "- [NetworkChuck](https://youtu.be/5-5Mf_L0UKw)\n",
    "- [Alex the analyst - functions](https://www.youtube.com/watch?v=zvzjaqMBEso)"
   ]
  }
 ],
 "metadata": {
  "kernelspec": {
   "display_name": "Python 3",
   "language": "python",
   "name": "python3"
  },
  "language_info": {
   "codemirror_mode": {
    "name": "ipython",
    "version": 3
   },
   "file_extension": ".py",
   "mimetype": "text/x-python",
   "name": "python",
   "nbconvert_exporter": "python",
   "pygments_lexer": "ipython3",
   "version": "3.8.10"
  },
  "orig_nbformat": 4
 },
 "nbformat": 4,
 "nbformat_minor": 2
}
