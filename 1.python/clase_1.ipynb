{
 "cells": [
  {
   "attachments": {},
   "cell_type": "markdown",
   "metadata": {},
   "source": [
    "# Mi primer notebook\n",
    "\n",
    "Esta es una celda markdown, para texto.\n",
    "\n",
    "Esta es una fórmula fancy, usando sintaxis de LateX:  $ y_{i} = x^2$\n",
    "\n",
    "Esto es un snippet de código (sólo lectura):\n",
    "\n",
    "```python\n",
    "# Esto es un comentario en python. La siguiente linea importa librería numpy\n",
    "import numpy as np \n",
    "\n",
    "#Crear un objeto tipo int (numero entero)\n",
    "n_int = 9 \n",
    "# Crear un objeto tipo lista (vacia)\n",
    "my_list = []\n",
    "```"
   ]
  },
  {
   "cell_type": "code",
   "execution_count": 1,
   "metadata": {},
   "outputs": [
    {
     "name": "stdout",
     "output_type": "stream",
     "text": [
      "hello\n"
     ]
    }
   ],
   "source": [
    "#Esta celda es para codigo\n",
    "#Vamos a imprimir usando python un mensaje de \"consola\"\n",
    "print('hello')"
   ]
  },
  {
   "attachments": {},
   "cell_type": "markdown",
   "metadata": {},
   "source": [
    "## Tipos de objetos\n",
    "\n",
    "<img src=\"https://image.slidesharecdn.com/datatypesinpython-210616122138/85/data-types-in-python-2-320.jpg?cb=1668970683\"  width=\"300\" height=\"300\">\n",
    "\n",
    "```python \n",
    "x = 3 #int\n",
    "y = 3.0 #float\n",
    "z = '3' #str\n",
    "z = False #bool\n",
    "a = [] #list\n",
    "a = list() #list\n",
    "a = () #tuple \n",
    "a = tuple() #tuple\n",
    "b = {} #dict \n",
    "b = dict() #dict\n",
    "```"
   ]
  },
  {
   "cell_type": "code",
   "execution_count": 2,
   "metadata": {},
   "outputs": [
    {
     "data": {
      "text/plain": [
       "bool"
      ]
     },
     "execution_count": 2,
     "metadata": {},
     "output_type": "execute_result"
    }
   ],
   "source": [
    "#When in doubt : \n",
    "type(False)"
   ]
  },
  {
   "cell_type": "code",
   "execution_count": null,
   "metadata": {},
   "outputs": [],
   "source": [
    "# Crear 2 variables tipo float \n",
    "x, y = ? ? \n",
    "# Sumar x y y guardar en variable z \n",
    "z ?? \n",
    "\n",
    "# Verificar si la palabra \"hi\" esta en variable p \n",
    "p = \"hi, how's it going\"\n",
    "p ?? \n",
    "\n",
    "# Verificar si es posible las sgtes operaciones\n",
    "q1 = p + x + y \n",
    "q2 = x * p\n",
    "q3 = 'hello' + p \n",
    "q4 = 3 + 3.0 \n"
   ]
  },
  {
   "cell_type": "code",
   "execution_count": null,
   "metadata": {},
   "outputs": [],
   "source": [
    "# Calcular promedio \n",
    "data_col = [40, 65, 65.4, 43.5]\n",
    "\n",
    "# Promedio = sum of all observations / total number observations\n",
    "num = sum(data_col)\n",
    "den = len(data_col)\n",
    "print('El numerador es : ', num, \"\\nEl denominador es: \", den)\n",
    "\n",
    "avg = num / den \n",
    "\n",
    "print('El promedio es : ', avg )"
   ]
  },
  {
   "attachments": {},
   "cell_type": "markdown",
   "metadata": {},
   "source": [
    "### Funciones"
   ]
  },
  {
   "cell_type": "code",
   "execution_count": null,
   "metadata": {},
   "outputs": [
    {
     "data": {
      "text/plain": [
       "int"
      ]
     },
     "metadata": {},
     "output_type": "display_data"
    }
   ],
   "source": [
    "def arithmetic_mean():\n",
    "    return 1 \n",
    "type(arithmetic_mean)"
   ]
  },
  {
   "cell_type": "code",
   "execution_count": 4,
   "metadata": {},
   "outputs": [],
   "source": [
    "from astropy.utils.data import download_file\n",
    "from astropy.io import fits\n",
    "from matplotlib import pyplot as plt\n",
    "from astropy.coordinates import SkyCoord\n",
    "from urllib.parse import urlencode\n",
    "from urllib.request import urlretrieve\n",
    "from IPython.display import Image\n",
    "import astropy.units as u\n",
    "%matplotlib inline"
   ]
  },
  {
   "cell_type": "code",
   "execution_count": 50,
   "metadata": {},
   "outputs": [
    {
     "name": "stdout",
     "output_type": "stream",
     "text": [
      "Coordinates <SkyCoord (ICRS): (ra, dec) in deg\n",
      "    (10.85726877, -50.18287047)>\n"
     ]
    },
    {
     "data": {
      "text/plain": [
       "('assets/NGC248.jpg', <http.client.HTTPMessage at 0x11b13e6d0>)"
      ]
     },
     "execution_count": 50,
     "metadata": {},
     "output_type": "execute_result"
    }
   ],
   "source": [
    "im_size = 12 * u.arcmin\n",
    "im_pixels = 1024\n",
    "urlCutOut = 'http://skyservice.pha.jhu.edu/DR12/ImgCutout/getjpeg.aspx'\n",
    "fuente = SkyCoord.from_name(\"NGC234\") #NGC234\n",
    "print(\"Coordinates\", fuente)\n",
    "query_string = urlencode(dict(ra=fuente.ra.deg,\n",
    "                              dec=fuente.dec.deg,\n",
    "                              width=im_pixels, \n",
    "                              height=im_pixels,\n",
    "                              scale=im_size.to(u.arcsec).value/im_pixels))\n",
    "url = urlCutOut + '?' + query_string\n",
    "urlretrieve(url, \"assets/NGC234.jpg\")"
   ]
  },
  {
   "cell_type": "code",
   "execution_count": 52,
   "metadata": {},
   "outputs": [],
   "source": [
    "#Image(\"assets/NGC238.jpg\")"
   ]
  },
  {
   "attachments": {},
   "cell_type": "markdown",
   "metadata": {},
   "source": [
    "### HW (?)\n",
    "\n",
    "Crear función para calcular Customer Lifetime value\n",
    "\n",
    "$$ CLTV = \\frac{AVG_{order value} \\times Purchase_{freq}}{churn_{rate}} \\times profit_{margin}$$"
   ]
  },
  {
   "cell_type": "code",
   "execution_count": 23,
   "metadata": {},
   "outputs": [],
   "source": [
    "# Si no esta instalado pandas:\n",
    "# !pip3 install pandas\n",
    "# !pip3 install openpyxl\n",
    "import pandas as pd \n",
    "\n",
    "# ! Ignorar esta parte (solo correr/ejecutar)\n",
    "\n",
    "uk_data = pd.read_excel('../datasets/online_retail_uk.xlsx')\n",
    "uk_data_group = pd.read_csv('../datasets/online_retail_uk_group.csv')\n",
    "\n",
    "# Calculo de Average Order Value\n",
    "uk_data_group['avg_order_value'] = uk_data_group['spent_money'] / uk_data_group['num_transactions']\n",
    "\n",
    "# Calculo de Purchase Frequency \n",
    "purchase_frequency = sum(uk_data_group['num_transactions']) / uk_data_group.shape[0]\n",
    "\n",
    "# Repeat Rate\n",
    "repeat_rate = uk_data_group[uk_data_group.num_transactions > 1].shape[0] / uk_data_group.shape[0]\n",
    "\n",
    "#Churn Rate\n",
    "churn_rate = 1 - repeat_rate\n",
    "\n",
    "# Profit Margin\n",
    "uk_data_group['profit_margin'] = uk_data_group['spent_money'] * 0.05\n",
    "\n"
   ]
  },
  {
   "cell_type": "code",
   "execution_count": null,
   "metadata": {},
   "outputs": [],
   "source": [
    "## Funcion para calcular Customer Lifetime Value\n",
    "def compute_clv(avg_order=uk_data_group['avg_order_value'], purchase_frequency=purchase_frequency, churn_rate=churn_rate, profit_margin=uk_data_group['profit_margin']):\n",
    "    \"\"\" Esta funcion te ayuda a calcular el CLV \n",
    "    (args)\n",
    "    \"\"\"\n",
    "    uk_data_group['CLV'] = 0 # Crear calculo aquí (borrar 0)\n",
    "    return uk_data_group\n"
   ]
  }
 ],
 "metadata": {
  "kernelspec": {
   "display_name": "Python 3",
   "language": "python",
   "name": "python3"
  },
  "language_info": {
   "codemirror_mode": {
    "name": "ipython",
    "version": 3
   },
   "file_extension": ".py",
   "mimetype": "text/x-python",
   "name": "python",
   "nbconvert_exporter": "python",
   "pygments_lexer": "ipython3",
   "version": "3.8.10"
  },
  "orig_nbformat": 4
 },
 "nbformat": 4,
 "nbformat_minor": 2
}
