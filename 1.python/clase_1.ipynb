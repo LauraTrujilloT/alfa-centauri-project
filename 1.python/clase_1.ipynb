{
 "cells": [
  {
   "attachments": {},
   "cell_type": "markdown",
   "metadata": {},
   "source": [
    "# Mi primer notebook\n",
    "\n",
    "Esta es una celda markdown, para texto.\n",
    "\n",
    "Esta es una fórmula fancy, usando sintaxis de LateX:  $ y_{i} = x^2$\n",
    "\n",
    "Esto es un snippet de código (sólo lectura):\n",
    "\n",
    "```python\n",
    "# Esto es un comentario en python. La siguiente linea importa librería numpy\n",
    "import numpy as np \n",
    "\n",
    "#Crear un objeto tipo int (numero entero)\n",
    "n_int = 9 \n",
    "# Crear un objeto tipo lista (vacia)\n",
    "my_list = []\n",
    "```"
   ]
  },
  {
   "cell_type": "code",
   "execution_count": 1,
   "metadata": {},
   "outputs": [
    {
     "name": "stdout",
     "output_type": "stream",
     "text": [
      "hello\n"
     ]
    }
   ],
   "source": [
    "#Esta celda es para codigo\n",
    "#Vamos a imprimir usando python un mensaje de \"consola\"\n",
    "print('hello')"
   ]
  },
  {
   "cell_type": "code",
   "execution_count": null,
   "metadata": {},
   "outputs": [],
   "source": []
  }
 ],
 "metadata": {
  "kernelspec": {
   "display_name": "Python 3",
   "language": "python",
   "name": "python3"
  },
  "language_info": {
   "codemirror_mode": {
    "name": "ipython",
    "version": 3
   },
   "file_extension": ".py",
   "mimetype": "text/x-python",
   "name": "python",
   "nbconvert_exporter": "python",
   "pygments_lexer": "ipython3",
   "version": "3.8.10"
  },
  "orig_nbformat": 4
 },
 "nbformat": 4,
 "nbformat_minor": 2
}
